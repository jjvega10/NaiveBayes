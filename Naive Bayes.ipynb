{
 "cells": [
  {
   "cell_type": "code",
   "execution_count": 4,
   "id": "baec0606",
   "metadata": {},
   "outputs": [],
   "source": [
    "import pandas as pd"
   ]
  },
  {
   "cell_type": "code",
   "execution_count": 7,
   "id": "184e3ad4",
   "metadata": {},
   "outputs": [],
   "source": [
    "df = pd.read_csv(\"bayestest.csv\", header=None)"
   ]
  },
  {
   "cell_type": "code",
   "execution_count": 8,
   "id": "9ca02a91",
   "metadata": {},
   "outputs": [
    {
     "data": {
      "text/html": [
       "<div>\n",
       "<style scoped>\n",
       "    .dataframe tbody tr th:only-of-type {\n",
       "        vertical-align: middle;\n",
       "    }\n",
       "\n",
       "    .dataframe tbody tr th {\n",
       "        vertical-align: top;\n",
       "    }\n",
       "\n",
       "    .dataframe thead th {\n",
       "        text-align: right;\n",
       "    }\n",
       "</style>\n",
       "<table border=\"1\" class=\"dataframe\">\n",
       "  <thead>\n",
       "    <tr style=\"text-align: right;\">\n",
       "      <th></th>\n",
       "      <th>0</th>\n",
       "      <th>1</th>\n",
       "      <th>2</th>\n",
       "      <th>3</th>\n",
       "    </tr>\n",
       "  </thead>\n",
       "  <tbody>\n",
       "    <tr>\n",
       "      <th>0</th>\n",
       "      <td>A1</td>\n",
       "      <td>B2</td>\n",
       "      <td>C3</td>\n",
       "      <td>1</td>\n",
       "    </tr>\n",
       "    <tr>\n",
       "      <th>1</th>\n",
       "      <td>A2</td>\n",
       "      <td>B1</td>\n",
       "      <td>C2</td>\n",
       "      <td>2</td>\n",
       "    </tr>\n",
       "    <tr>\n",
       "      <th>2</th>\n",
       "      <td>A3</td>\n",
       "      <td>B1</td>\n",
       "      <td>C1</td>\n",
       "      <td>3</td>\n",
       "    </tr>\n",
       "    <tr>\n",
       "      <th>3</th>\n",
       "      <td>A1</td>\n",
       "      <td>B2</td>\n",
       "      <td>C3</td>\n",
       "      <td>1</td>\n",
       "    </tr>\n",
       "    <tr>\n",
       "      <th>4</th>\n",
       "      <td>A2</td>\n",
       "      <td>B1</td>\n",
       "      <td>C2</td>\n",
       "      <td>2</td>\n",
       "    </tr>\n",
       "  </tbody>\n",
       "</table>\n",
       "</div>"
      ],
      "text/plain": [
       "    0   1   2  3\n",
       "0  A1  B2  C3  1\n",
       "1  A2  B1  C2  2\n",
       "2  A3  B1  C1  3\n",
       "3  A1  B2  C3  1\n",
       "4  A2  B1  C2  2"
      ]
     },
     "execution_count": 8,
     "metadata": {},
     "output_type": "execute_result"
    }
   ],
   "source": [
    "df.head()"
   ]
  },
  {
   "cell_type": "code",
   "execution_count": 11,
   "id": "f8043e7f",
   "metadata": {},
   "outputs": [],
   "source": [
    "df = df.rename(columns={0:'First', 1:'Second', 2:'Third', 3:'Target'})"
   ]
  },
  {
   "cell_type": "code",
   "execution_count": 17,
   "id": "256168c5",
   "metadata": {},
   "outputs": [
    {
     "data": {
      "text/plain": [
       "array([1, 2, 3])"
      ]
     },
     "execution_count": 17,
     "metadata": {},
     "output_type": "execute_result"
    }
   ],
   "source": [
    "df['Target'].unique()"
   ]
  },
  {
   "cell_type": "code",
   "execution_count": 32,
   "id": "4a70f16c",
   "metadata": {},
   "outputs": [
    {
     "data": {
      "text/plain": [
       "2"
      ]
     },
     "execution_count": 32,
     "metadata": {},
     "output_type": "execute_result"
    }
   ],
   "source": [
    "first_a1 = df.loc[:, 'First']=='A1'\n",
    "class_1 = df.loc[:, 'Target']==1\n",
    "df.loc[first_a1&class_1]['First'].size"
   ]
  },
  {
   "cell_type": "code",
   "execution_count": 67,
   "id": "f940cc58",
   "metadata": {},
   "outputs": [],
   "source": [
    "test = df.loc[0, df.columns != target_name]"
   ]
  },
  {
   "cell_type": "code",
   "execution_count": 68,
   "id": "fcb2db88",
   "metadata": {},
   "outputs": [
    {
     "data": {
      "text/plain": [
       "First     A1\n",
       "Second    B2\n",
       "Third     C3\n",
       "Name: 0, dtype: object"
      ]
     },
     "execution_count": 68,
     "metadata": {},
     "output_type": "execute_result"
    }
   ],
   "source": [
    "test"
   ]
  },
  {
   "cell_type": "code",
   "execution_count": 69,
   "id": "a69f90d7",
   "metadata": {},
   "outputs": [
    {
     "name": "stdout",
     "output_type": "stream",
     "text": [
      "1\n",
      "Target 1, Column First, prob: 0.6666666666666666\n",
      "Target 1, Column Second, prob: 0.6666666666666666\n",
      "Target 1, Column Third, prob: 0.6666666666666666\n",
      "Probability of class 1 is 0.2962962962962963\n",
      "2\n",
      "Target 2, Column First, prob: 0.0\n",
      "Target 2, Column Second, prob: 0.0\n",
      "Target 2, Column Third, prob: 0.0\n",
      "Probability of class 2 is 0.0\n",
      "3\n",
      "Target 3, Column First, prob: 0.3333333333333333\n",
      "Target 3, Column Second, prob: 0.3333333333333333\n",
      "Target 3, Column Third, prob: 0.0\n",
      "Probability of class 3 is 0.0\n"
     ]
    }
   ],
   "source": [
    "## Replace 'Target with column name of target'\n",
    "target_name = 'Target'\n",
    "# Replace 'test' with PD series that wants to be predicted\n",
    "test = df.loc[0, df.columns != target_name]\n",
    "classes = df[target_name].unique()\n",
    "for target in classes:\n",
    "    print(target)\n",
    "    target_prob = []\n",
    "    for column in df.columns:\n",
    "        if column != target_name:\n",
    "            class_mask = df.loc[:, target_name]==target\n",
    "            column_mask = df.loc[:, column]==test[column]\n",
    "            total_pos = df[class_mask][column].size\n",
    "            my_pos = df[class_mask&column_mask][column].size\n",
    "            target_prob.append(my_pos/total_pos)\n",
    "            print(target_name + ' ' + str(target) + ', Column ' + str(column) + \", prob: \" + str(my_pos/total_pos))\n",
    "    result_for_class = 1\n",
    "    for prob in target_prob:\n",
    "        result_for_class = result_for_class * prob\n",
    "    print('Probability of class ' + str(target) + ' is ' + str(result_for_class))    "
   ]
  },
  {
   "cell_type": "code",
   "execution_count": null,
   "id": "54e3e96b",
   "metadata": {},
   "outputs": [],
   "source": []
  }
 ],
 "metadata": {
  "kernelspec": {
   "display_name": "Python 3 (ipykernel)",
   "language": "python",
   "name": "python3"
  },
  "language_info": {
   "codemirror_mode": {
    "name": "ipython",
    "version": 3
   },
   "file_extension": ".py",
   "mimetype": "text/x-python",
   "name": "python",
   "nbconvert_exporter": "python",
   "pygments_lexer": "ipython3",
   "version": "3.9.7"
  }
 },
 "nbformat": 4,
 "nbformat_minor": 5
}
